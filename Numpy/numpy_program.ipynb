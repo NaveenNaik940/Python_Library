{
 "cells": [
  {
   "cell_type": "code",
   "execution_count": 2,
   "metadata": {},
   "outputs": [],
   "source": [
    "import numpy as np\n",
    "import random"
   ]
  },
  {
   "cell_type": "markdown",
   "metadata": {},
   "source": [
    "1. Write a Python program to convert a list of numeric value into a one-dimensional\n",
    "NumPy array.\n",
    "Expected Output:\n",
    "Original List: [12.23, 13.32, 100, 36.32]\n",
    "One-dimensional numpy array: [ 12.23 13.32 100. 36.32]"
   ]
  },
  {
   "cell_type": "code",
   "execution_count": 80,
   "metadata": {},
   "outputs": [
    {
     "name": "stdout",
     "output_type": "stream",
     "text": [
      "Invalid input -->invalid literal for int() with base 10: 'uh'\n"
     ]
    }
   ],
   "source": [
    "'''\n",
    "\n",
    "@Author:Naveen Madev Naik\n",
    "@Date: 2024-08-06\n",
    "@Last Modified by: Naveen Madev Naik\n",
    "@Last Modified time: 2024-08-06 \n",
    "@Title :Python program to convert a list of numeric value into a one-dimensional NumPy array\n",
    "\n",
    "'''\n",
    "\n",
    "\n",
    "def list_to_numpy_array(numeric_list):\n",
    "    \n",
    "    \"\"\"\n",
    "    Description:\n",
    "        function will convert list to one dimensional  numpy array\n",
    "\n",
    "    Parameter:\n",
    "        numeric_list:user input of list contains numeric value\n",
    "\n",
    "    Return:\n",
    "        None   \n",
    "\n",
    "    \"\"\"\n",
    "\n",
    "    arr=np.array(numeric_list)\n",
    "    print(f\"One-dimensional numpy array: {arr}\")\n",
    "\n",
    "\n",
    "def main():\n",
    "    try:\n",
    "        no_of_item=int(input(\"enter the number of element value you want to add to list: \"))\n",
    "        print(\"add the numerical value: \")\n",
    "        numeric_list=[]\n",
    "        for item in range(no_of_item):\n",
    "            numeric_list.append(float(input(\"add: \")))\n",
    "\n",
    "        print(f\"after converting list {numeric_list} to one-dimensional numpy array: \")\n",
    "        list_to_numpy_array(numeric_list)\n",
    "    \n",
    "    except ValueError as e:\n",
    "        print(f\"Invalid input -->{e}\")    \n",
    "\n",
    "if __name__==\"__main__\":\n",
    "    main()\n"
   ]
  },
  {
   "cell_type": "markdown",
   "metadata": {},
   "source": [
    "2. Create a 3x3 matrix with values ranging from 2 to 10.\n",
    "Expected Output:\n",
    "[[ 2 3 4]\n",
    "[ 5 6 7]\n",
    "[ 8 9 10]]"
   ]
  },
  {
   "cell_type": "code",
   "execution_count": 1,
   "metadata": {},
   "outputs": [
    {
     "name": "stdout",
     "output_type": "stream",
     "text": [
      "3X3 martix rangig from 2 to 10: \n"
     ]
    },
    {
     "ename": "NameError",
     "evalue": "name 'np' is not defined",
     "output_type": "error",
     "traceback": [
      "\u001b[1;31m---------------------------------------------------------------------------\u001b[0m",
      "\u001b[1;31mNameError\u001b[0m                                 Traceback (most recent call last)",
      "Cell \u001b[1;32mIn[1], line 28\u001b[0m\n\u001b[0;32m     25\u001b[0m         \u001b[38;5;28mprint\u001b[39m(\u001b[38;5;124mf\u001b[39m\u001b[38;5;124m\"\u001b[39m\u001b[38;5;124mInvalid input -->\u001b[39m\u001b[38;5;132;01m{\u001b[39;00me\u001b[38;5;132;01m}\u001b[39;00m\u001b[38;5;124m\"\u001b[39m)    \n\u001b[0;32m     27\u001b[0m \u001b[38;5;28;01mif\u001b[39;00m \u001b[38;5;18m__name__\u001b[39m\u001b[38;5;241m==\u001b[39m\u001b[38;5;124m\"\u001b[39m\u001b[38;5;124m__main__\u001b[39m\u001b[38;5;124m\"\u001b[39m:\n\u001b[1;32m---> 28\u001b[0m     \u001b[43mmain\u001b[49m\u001b[43m(\u001b[49m\u001b[43m)\u001b[49m\n",
      "Cell \u001b[1;32mIn[1], line 19\u001b[0m, in \u001b[0;36mmain\u001b[1;34m()\u001b[0m\n\u001b[0;32m     17\u001b[0m \u001b[38;5;28;01mfor\u001b[39;00m item \u001b[38;5;129;01min\u001b[39;00m \u001b[38;5;28mrange\u001b[39m(\u001b[38;5;241m2\u001b[39m,\u001b[38;5;241m11\u001b[39m):\n\u001b[0;32m     18\u001b[0m     matrix_list\u001b[38;5;241m.\u001b[39mappend(item)\n\u001b[1;32m---> 19\u001b[0m arr\u001b[38;5;241m=\u001b[39m\u001b[43mnp\u001b[49m\u001b[38;5;241m.\u001b[39marray(matrix_list)\n\u001b[0;32m     20\u001b[0m arr\u001b[38;5;241m=\u001b[39marr\u001b[38;5;241m.\u001b[39mreshape(\u001b[38;5;241m3\u001b[39m,\u001b[38;5;241m3\u001b[39m)\n\u001b[0;32m     21\u001b[0m \u001b[38;5;28mprint\u001b[39m(arr)\n",
      "\u001b[1;31mNameError\u001b[0m: name 'np' is not defined"
     ]
    }
   ],
   "source": [
    "'''\n",
    "\n",
    "@Author:Naveen Madev Naik\n",
    "@Date: 2024-08-06\n",
    "@Last Modified by: Naveen Madev Naik\n",
    "@Last Modified time: 2024-08-06 \n",
    "@Title :Create a 3x3 matrix with values ranging from 2 to 10.\n",
    "\n",
    "'''\n",
    "\n",
    "\n",
    "def main():\n",
    "    try:\n",
    "        print(\"3X3 martix rangig from 2 to 10: \")\n",
    "\n",
    "        matrix_list=[]\n",
    "        for item in range(2,11):\n",
    "            matrix_list.append(item)\n",
    "        arr=np.array(matrix_list)\n",
    "        arr=arr.reshape(3,3)\n",
    "        print(arr)\n",
    "\n",
    "    \n",
    "    except ValueError as e:\n",
    "        print(f\"Invalid input -->{e}\")    \n",
    "\n",
    "if __name__==\"__main__\":\n",
    "    main()\n"
   ]
  },
  {
   "cell_type": "markdown",
   "metadata": {},
   "source": [
    "3. Write a Python program to create a null vector of size 10 and update sixth value to 11.\n",
    "[ 0. 0. 0. 0. 0. 0. 0. 0. 0. 0.]\n",
    "Update sixth value to 11\n",
    "[ 0. 0. 0. 0. 0. 0. 11. 0. 0. 0.]"
   ]
  },
  {
   "cell_type": "code",
   "execution_count": 82,
   "metadata": {},
   "outputs": [
    {
     "name": "stdout",
     "output_type": "stream",
     "text": [
      "creating null vector size of 10: \n",
      "[0. 0. 0. 0. 0. 0. 0. 0. 0. 0.]\n",
      "updating 6th element in array to 11: \n",
      "[ 0.  0.  0.  0.  0.  0. 11.  0.  0.  0.]\n"
     ]
    }
   ],
   "source": [
    "'''\n",
    "\n",
    "@Author:Naveen Madev Naik\n",
    "@Date: 2024-08-06\n",
    "@Last Modified by: Naveen Madev Naik\n",
    "@Last Modified time: 2024-08-06 \n",
    "@Title :Python program to create a null vector of size 10 and update sixth value to 11.\n",
    "\n",
    "'''\n",
    "\n",
    "\n",
    "def main():\n",
    "    try:\n",
    "        print(\"creating null vector size of 10: \")\n",
    "        arr=np.zeros(10)\n",
    "        print(arr)\n",
    "        print(\"updating 6th element in array to 11: \")\n",
    "        arr[6]=11\n",
    "        print(arr)\n",
    "\n",
    "    except ValueError as e:\n",
    "        print(f\"Invalid input -->{e}\")    \n",
    "\n",
    "if __name__==\"__main__\":\n",
    "    main()\n"
   ]
  },
  {
   "cell_type": "markdown",
   "metadata": {},
   "source": [
    "4. Write a Python program to reverse an array (first element becomes last).\n",
    "Original array:\n",
    "[12 13 14 15 16 17 18 19 20 21 22 23 24 25 26 27 28 29 30 31 32 33 34 35 36 37]\n",
    "Reverse array:\n",
    "[37 36 35 34 33 32 31 30 29 28 27 26 25 24 23 22 21 20 19 18 17 16 15 14 13 12]"
   ]
  },
  {
   "cell_type": "code",
   "execution_count": 83,
   "metadata": {},
   "outputs": [
    {
     "name": "stdout",
     "output_type": "stream",
     "text": [
      "Invalid input -->invalid literal for int() with base 10: 'kjhkj'\n"
     ]
    }
   ],
   "source": [
    "'''\n",
    "\n",
    "@Author:Naveen Madev Naik\n",
    "@Date: 2024-08-06\n",
    "@Last Modified by: Naveen Madev Naik\n",
    "@Last Modified time: 2024-08-06 \n",
    "@Title :Python program to reverse an array (first element becomes last).\n",
    "\n",
    "'''\n",
    "\n",
    "\n",
    "def reverse_array(given_list):\n",
    "    \"\"\"\n",
    "    Description:\n",
    "        function will reverse given list and convert it to numpy array\n",
    "\n",
    "    Parameter:\n",
    "        given_list:user input in list\n",
    "\n",
    "    Return:\n",
    "        None\n",
    "\n",
    "    \"\"\"\n",
    "\n",
    "    arr=np.array(given_list)\n",
    "    print(arr[len(arr)-1::-1])\n",
    "\n",
    "\n",
    "def main():\n",
    "    try:\n",
    "        no_of_element=int(input(\"enter number of elementy ou want to include randomly: \"))\n",
    "        given_list=[]\n",
    "        for item in range(no_of_element):\n",
    "            given_list.append(random.randint(1,100))\n",
    "\n",
    "        print(f\"After reversing given array: {given_list}: \")\n",
    "        reverse_array(given_list)  \n",
    "\n",
    "\n",
    "    except ValueError as e:\n",
    "        print(f\"Invalid input -->{e}\")    \n",
    "\n",
    "if __name__==\"__main__\":\n",
    "    main()"
   ]
  },
  {
   "cell_type": "markdown",
   "metadata": {},
   "source": [
    "5. Write a Python program to create a 2d array with 1 on the border and 0 inside.\n",
    "Expected Output:\n",
    "Original array:\n",
    "[[ 1. 1. 1. 1. 1.]\n",
    "[ 1. 1. 1. 1. 1.]\n",
    "[ 1. 1. 1. 1. 1.]\n",
    "[ 1. 1. 1. 1. 1.]\n",
    "[ 1. 1. 1. 1. 1.]]\n",
    "1 on the border and 0 inside in the array\n",
    "[[ 1. 1. 1. 1. 1.]\n",
    "[ 1. 0. 0. 0. 1.]\n",
    "[ 1. 0. 0. 0. 1.]\n",
    "[ 1. 0. 0. 0. 1.]\n",
    "[ 1. 1. 1. 1. 1.]]"
   ]
  },
  {
   "cell_type": "code",
   "execution_count": 84,
   "metadata": {},
   "outputs": [
    {
     "name": "stdout",
     "output_type": "stream",
     "text": [
      "Invalid input -->invalid literal for int() with base 10: ''\n"
     ]
    }
   ],
   "source": [
    "'''\n",
    "\n",
    "@Author:Naveen Madev Naik\n",
    "@Date: 2024-08-06\n",
    "@Last Modified by: Naveen Madev Naik\n",
    "@Last Modified time: 2024-08-06 \n",
    "@Title :Python program to create a 2d array with 1 on the border and 0 inside.\n",
    "\n",
    "'''\n",
    "\n",
    "\n",
    "def main():\n",
    "    try:\n",
    "        matrix_row_col=int(input(\"enter number row column in matrix: \"))\n",
    "\n",
    "        arr=np.ones(matrix_row_col*matrix_row_col)\n",
    "        arr=arr.reshape(matrix_row_col,matrix_row_col)\n",
    "        print(arr)\n",
    "\n",
    "        for row in range(1,matrix_row_col-1):\n",
    "            for col in range(1,matrix_row_col-1):\n",
    "                arr[row,col]=0\n",
    "        print(\"After adding 1 on the border and 0 inside: \")        \n",
    "        print(arr)\n",
    "\n",
    "    except ValueError as e:\n",
    "        print(f\"Invalid input -->{e}\")    \n",
    "\n",
    "if __name__==\"__main__\":\n",
    "    main()"
   ]
  },
  {
   "cell_type": "markdown",
   "metadata": {},
   "source": [
    "6. Write a Python program to add a border (filled with 0's) around an existing array.\n",
    "Expected Output:\n",
    "Original array:\n",
    "[[ 1. 1. 1.]\n",
    "[ 1. 1. 1.]\n",
    "[ 1. 1. 1.]]\n",
    "1 on the border and 0 inside in the array\n",
    "[[ 0. 0. 0. 0. 0.]\n",
    "[ 0. 1. 1. 1. 0.]\n",
    "[ 0. 1. 1. 1. 0.]\n",
    "[ 0. 1. 1. 1. 0.]\n",
    "[ 0. 0. 0. 0. 0.]]"
   ]
  },
  {
   "cell_type": "code",
   "execution_count": 168,
   "metadata": {},
   "outputs": [
    {
     "name": "stdout",
     "output_type": "stream",
     "text": [
      "[[1. 1.]\n",
      " [1. 1.]]\n",
      "[[1. 1. 1. 1.]\n",
      " [1. 1. 1. 1.]\n",
      " [1. 1. 1. 1.]\n",
      " [1. 1. 1. 1.]]\n",
      "After adding 0 on the border and 1 inside: \n",
      "[[0. 0. 0. 0.]\n",
      " [0. 1. 1. 0.]\n",
      " [0. 1. 1. 0.]\n",
      " [0. 0. 0. 0.]]\n"
     ]
    }
   ],
   "source": [
    "'''\n",
    "\n",
    "@Author:Naveen Madev Naik\n",
    "@Date: 2024-08-06\n",
    "@Last Modified by: Naveen Madev Naik\n",
    "@Last Modified time: 2024-08-06 \n",
    "@Title : Python program to add a border (filled with 0's) around an existing array.\n",
    "\n",
    "'''\n",
    "\n",
    "\n",
    "def main():\n",
    "    try:\n",
    "        matrix_row_col=int(input(\"enter number row column in matrix: \"))\n",
    "\n",
    "        arr=np.ones(matrix_row_col*matrix_row_col)\n",
    "        arr=arr.reshape(matrix_row_col,matrix_row_col)\n",
    "        print(arr)\n",
    "        arr = np.ones((matrix_row_col+2,matrix_row_col+2))\n",
    "        print(arr)\n",
    "        for row in range(0,matrix_row_col+2):\n",
    "            for col in range(0,matrix_row_col+2):\n",
    "                if row==0 or row==matrix_row_col-1+2 or col==0 or col==matrix_row_col-1+2:\n",
    "                    arr[row,col]=0\n",
    "                \n",
    "   \n",
    "\n",
    "        print(\"After adding 0 on the border and 1 inside: \")        \n",
    "        print(arr)\n",
    "\n",
    "    except ValueError as e:\n",
    "        print(f\"Invalid input -->{e}\")    \n",
    "\n",
    "if __name__==\"__main__\":\n",
    "    main()"
   ]
  },
  {
   "cell_type": "markdown",
   "metadata": {},
   "source": [
    "7. Write a Python program to create a 8x8 matrix and fill it with a checkerboard pattern.\n",
    "Checkerboard pattern:\n",
    "[[0 1 0 1 0 1 0 1]\n",
    "[1 0 1 0 1 0 1 0]\n",
    "[0 1 0 1 0 1 0 1]\n",
    "[1 0 1 0 1 0 1 0]\n",
    "[0 1 0 1 0 1 0 1]\n",
    "[1 0 1 0 1 0 1 0]\n",
    "[0 1 0 1 0 1 0 1]\n",
    "[1 0 1 0 1 0 1 0]]"
   ]
  },
  {
   "cell_type": "code",
   "execution_count": 86,
   "metadata": {},
   "outputs": [
    {
     "name": "stdout",
     "output_type": "stream",
     "text": [
      "Checkerboard Pattern: \n",
      "[[0. 1. 0. 1. 0. 1. 0. 1.]\n",
      " [1. 0. 1. 0. 1. 0. 1. 0.]\n",
      " [0. 1. 0. 1. 0. 1. 0. 1.]\n",
      " [1. 0. 1. 0. 1. 0. 1. 0.]\n",
      " [0. 1. 0. 1. 0. 1. 0. 1.]\n",
      " [1. 0. 1. 0. 1. 0. 1. 0.]\n",
      " [0. 1. 0. 1. 0. 1. 0. 1.]\n",
      " [1. 0. 1. 0. 1. 0. 1. 0.]]\n"
     ]
    }
   ],
   "source": [
    "'''\n",
    "\n",
    "@Author:Naveen Madev Naik\n",
    "@Date: 2024-08-06\n",
    "@Last Modified by: Naveen Madev Naik\n",
    "@Last Modified time: 2024-08-06 \n",
    "@Title :Python program to create a 8x8 matrix and fill it with a checkerboard pattern.\n",
    "\n",
    "'''\n",
    "\n",
    "\n",
    "def main():\n",
    "    try:\n",
    "        matrix_row_col=8\n",
    "\n",
    "        arr=np.ones(matrix_row_col*matrix_row_col)\n",
    "        arr=arr.reshape(matrix_row_col,matrix_row_col)\n",
    "\n",
    "        for row in range(0,matrix_row_col):\n",
    "            for col in range(0,matrix_row_col):\n",
    "                if row%2==0 and col%2==0:\n",
    "                    arr[row,col]=0\n",
    "                elif row%2!=0 and col%2!=0:\n",
    "                    arr[row,col]=0   \n",
    "\n",
    "        print(\"Checkerboard Pattern: \")        \n",
    "        print(arr)\n",
    "\n",
    "    except ValueError as e:\n",
    "        print(f\"Invalid input -->{e}\")    \n",
    "\n",
    "if __name__==\"__main__\":\n",
    "    main()"
   ]
  },
  {
   "cell_type": "markdown",
   "metadata": {},
   "source": [
    "8. Write a Python program to convert a list and tuple into arrays.\n",
    "List to array:\n",
    "[1 2 3 4 5 6 7 8]\n",
    "Tuple to array:\n",
    "[[8 4 6]\n",
    "[1 2 3]]"
   ]
  },
  {
   "cell_type": "code",
   "execution_count": 87,
   "metadata": {},
   "outputs": [
    {
     "name": "stdout",
     "output_type": "stream",
     "text": [
      "converting tuple ((8, 4, 6), (1, 2, 3)) to array: \n",
      "[[8 4 6]\n",
      " [1 2 3]]\n",
      "converting list [5, 6, 4, 6, 5, 4] to array: \n",
      "[5 6 4 6 5 4]\n"
     ]
    }
   ],
   "source": [
    "'''\n",
    "\n",
    "@Author:Naveen Madev Naik\n",
    "@Date: 2024-08-06\n",
    "@Last Modified by: Naveen Madev Naik\n",
    "@Last Modified time: 2024-08-06 \n",
    "@Title :Python program to convert a list and tuple into arrays.\n",
    "\n",
    "'''\n",
    "\n",
    "\n",
    "def tuple_to_array(given_tuple):\n",
    "\n",
    "    \"\"\"\n",
    "    Description:\n",
    "        Function will convert tuple to array\n",
    "    \n",
    "    Parameter:\n",
    "        given_tuple:user input of tuple\n",
    "\n",
    "    Return:\n",
    "        None\n",
    "    \"\"\"\n",
    "\n",
    "    arr=np.array(given_tuple)\n",
    "    print(arr)\n",
    "\n",
    "\n",
    "def list_to_array(given_list):\n",
    "    \"\"\"\n",
    "    Description:\n",
    "        Function will convert list to array\n",
    "    \n",
    "    Parameter:\n",
    "        given_tuple:user input of list\n",
    "\n",
    "    Return:\n",
    "        None\n",
    "    \"\"\"\n",
    "    arr=np.array(given_list)\n",
    "    print(arr)\n",
    "\n",
    "    \n",
    "def main():\n",
    "    try:\n",
    "        given_tuple=((8,4,6),(1,2,3))\n",
    "        print(f\"converting tuple {given_tuple} to array: \")\n",
    "    \n",
    "        tuple_to_array(given_tuple)\n",
    "\n",
    "        given_list=[]\n",
    "        for item in range(random.randint(4,7)):\n",
    "            given_list.append(random.randint(1,10))\n",
    "\n",
    "        print(f\"converting list {given_list} to array: \") \n",
    "        list_to_array(given_list)   \n",
    "\n",
    "    except ValueError as e:\n",
    "        print(f\"Invalid input -->{e}\")    \n",
    "\n",
    "if __name__==\"__main__\":\n",
    "    main()"
   ]
  },
  {
   "cell_type": "markdown",
   "metadata": {},
   "source": [
    "9. Write a Python program to append values to the end of an array.\n",
    "Expected Output:\n",
    "Original array:\n",
    "[10, 20, 30]\n",
    "After append values to the end of the array:\n",
    "[10 20 30 40 50 60 70 80 90]"
   ]
  },
  {
   "cell_type": "code",
   "execution_count": 88,
   "metadata": {},
   "outputs": [
    {
     "name": "stdout",
     "output_type": "stream",
     "text": [
      "original array: \n",
      "[10 20 30]\n",
      "Invalid input -->invalid literal for int() with base 10: 'jdd'\n"
     ]
    }
   ],
   "source": [
    "'''\n",
    "\n",
    "@Author:Naveen Madev Naik\n",
    "@Date: 2024-08-06\n",
    "@Last Modified by: Naveen Madev Naik\n",
    "@Last Modified time: 2024-08-06 \n",
    "@Title : Python program to append values to the end of an array.\n",
    "\n",
    "'''\n",
    "\n",
    "    \n",
    "def main():\n",
    "    try:\n",
    "        \n",
    "        arr=np.array([10,20,30])\n",
    "        print(\"original array: \")\n",
    "        print(arr)\n",
    "\n",
    "        no_element=int(input(\"how many element you want to add: \"))\n",
    "        for item in range(no_element):\n",
    "            arr=np.append(arr,int(input(\"add: \")))\n",
    "        \n",
    "        print(\"After append value to the end of an array: \")\n",
    "        print(arr)\n",
    "    except ValueError as e:\n",
    "        print(f\"Invalid input -->{e}\")    \n",
    "\n",
    "if __name__==\"__main__\":\n",
    "    main()"
   ]
  },
  {
   "cell_type": "markdown",
   "metadata": {},
   "source": [
    "10. Write a Python program to find the real and imaginary parts of an array of complex\n",
    "numbers.\n",
    "Expected Output:\n",
    "Original array [ 1.00000000+0.j 0.70710678+0.70710678j]\n",
    "Real part of the array:\n",
    "[ 1. 0.70710678]\n",
    "Imaginary part of the array:\n",
    "[ 0. 0.70710678]"
   ]
  },
  {
   "cell_type": "code",
   "execution_count": 89,
   "metadata": {},
   "outputs": [
    {
     "name": "stdout",
     "output_type": "stream",
     "text": [
      "Original Array: [1.0056907 +0.123j      0.70710678+0.70710678j 0.42387689+0.0087j    ]\n",
      "real part of an array: [1.0056907  0.70710678 0.42387689]\n",
      "imaginary part of array: [0.123      0.70710678 0.0087    ]\n"
     ]
    }
   ],
   "source": [
    "'''\n",
    "\n",
    "@Author:Naveen Madev Naik\n",
    "@Date: 2024-08-06\n",
    "@Last Modified by: Naveen Madev Naik\n",
    "@Last Modified time: 2024-08-06 \n",
    "@Title :Python program to find the real and imaginary parts of an array of complex numbers.\n",
    "\n",
    "'''\n",
    "\n",
    "    \n",
    "def main():\n",
    "    try:\n",
    "        \n",
    "        arr=np.array([ 1.0056907+0.123j, 0.70710678+0.70710678j,0.42387689+0.0087j],dtype=complex)\n",
    "        print(f\"Original Array: {arr}\")\n",
    "\n",
    "        real_part_arr=np.array([])\n",
    "        imaginary_part_arr=np.array([])\n",
    "        for index in range(len(arr)):\n",
    "            real_part_arr=np.append(real_part_arr,arr[index].real)\n",
    "            imaginary_part_arr=np.append(imaginary_part_arr,arr[index].imag)\n",
    "\n",
    "        print(f\"real part of an array: {real_part_arr}\") \n",
    "        print(f\"imaginary part of array: {imaginary_part_arr}\")   \n",
    "            \n",
    "\n",
    "    except ValueError as e:\n",
    "        print(f\"Invalid input -->{e}\")    \n",
    "\n",
    "if __name__==\"__main__\":\n",
    "    main()"
   ]
  },
  {
   "cell_type": "markdown",
   "metadata": {},
   "source": [
    "11. Write a Python program to find the number of elements of an array, length of one\n",
    "array element in bytes and total bytes consumed by the elements.\n",
    "Expected Output:\n",
    "Size of the array: 3\n",
    "Length of one array element in bytes: 8\n",
    "Total bytes consumed by the elements of the array: 24"
   ]
  },
  {
   "cell_type": "code",
   "execution_count": 90,
   "metadata": {},
   "outputs": [
    {
     "name": "stdout",
     "output_type": "stream",
     "text": [
      "Number of elements in the array: 7\n",
      "Length of one array element in bytes: 4\n",
      "Total bytes consumed by the elements: 28\n"
     ]
    }
   ],
   "source": [
    "'''\n",
    "\n",
    "@Author:Naveen Madev Naik\n",
    "@Date: 2024-08-06\n",
    "@Last Modified by: Naveen Madev Naik\n",
    "@Last Modified time: 2024-08-06 \n",
    "@Title :Python program to find the number of elements of an array, length of one\n",
    "        array element in bytes and total bytes consumed by the elements.\n",
    "\n",
    "'''\n",
    "\n",
    "    \n",
    "def main():\n",
    "    try:\n",
    "        arr = np.array([1,23,4,7,8,9,10])\n",
    "\n",
    "        num_elements = arr.size\n",
    "\n",
    "        element_length_bytes = arr.itemsize\n",
    "\n",
    "        total_bytes = arr.nbytes\n",
    "\n",
    "        print(f\"Number of elements in the array: {num_elements}\")\n",
    "        print(f\"Length of one array element in bytes: {element_length_bytes}\")\n",
    "        print(f\"Total bytes consumed by the elements: {total_bytes}\")\n",
    "   \n",
    "            \n",
    "\n",
    "    except ValueError as e:\n",
    "        print(f\"Invalid input -->{e}\")    \n",
    "\n",
    "if __name__==\"__main__\":\n",
    "    main()"
   ]
  },
  {
   "cell_type": "markdown",
   "metadata": {},
   "source": [
    "12. Write a Python program to find common values between two arrays.\n",
    "Expected Output:\n",
    "Array1: [ 0 10 20 40 60]\n",
    "Array2: [10, 30, 40]\n",
    "Common values between two arrays:\n",
    "[10 40]"
   ]
  },
  {
   "cell_type": "code",
   "execution_count": 91,
   "metadata": {},
   "outputs": [
    {
     "name": "stdout",
     "output_type": "stream",
     "text": [
      "Array1:  [10 20 40 50 60]\n",
      "Array2:  [10 30 40]\n",
      "common values between two arrays: \n",
      "[10 40]\n"
     ]
    }
   ],
   "source": [
    "'''\n",
    "\n",
    "@Author:Naveen Madev Naik\n",
    "@Date: 2024-08-06\n",
    "@Last Modified by: Naveen Madev Naik\n",
    "@Last Modified time: 2024-08-06 \n",
    "@Title :Python program to find common values between two arrays.\n",
    "\n",
    "'''\n",
    "\n",
    "\n",
    "def common_value(array1,array2):\n",
    "\n",
    "    \"\"\"\n",
    "    Description:\n",
    "        function will return the common element in both array inform of array\n",
    "\n",
    "    Parameter:\n",
    "        array1,array2:common element will extracted between these two array\n",
    "\n",
    "    Return:\n",
    "        None\n",
    "    \"\"\"\n",
    "    arr=np.array([])\n",
    "    for item in array2:\n",
    "        if item in array1:\n",
    "            arr=np.append(arr,item)\n",
    "    arr=np.array(arr,dtype=int)\n",
    "    print(arr)       \n",
    "\n",
    "def main():\n",
    "    try:\n",
    "        array1=np.array([10,20,40,50,60])\n",
    "        array2=np.array([10, 30, 40])\n",
    "        print(\"Array1: \",array1)\n",
    "        print(\"Array2: \",array2)\n",
    "\n",
    "        print(\"common values between two arrays: \")\n",
    "        common_value(array1,array2)\n",
    "\n",
    "    except ValueError as e:\n",
    "        print(f\"Invalid input -->{e}\")    \n",
    "\n",
    "if __name__==\"__main__\":\n",
    "    main()"
   ]
  },
  {
   "cell_type": "markdown",
   "metadata": {},
   "source": [
    "13. Write a Python program to find the set difference of two arrays. The set difference\n",
    "will return the sorted, unique values in array1 that are not in array2.\n",
    "Expected Output:\n",
    "Array1: [ 0 10 20 40 60 80]\n",
    "Array2: [10, 30, 40, 50, 70, 90]\n",
    "Set difference between two arrays:\n",
    "[ 0 20 60 80]"
   ]
  },
  {
   "cell_type": "code",
   "execution_count": 92,
   "metadata": {},
   "outputs": [
    {
     "name": "stdout",
     "output_type": "stream",
     "text": [
      "Array1:  [ 0 10 20 40 60 80]\n",
      "Array2:  [10 30 40 50 70 90]\n",
      "set difference between two arrays: \n",
      "[ 0 20 60 80]\n"
     ]
    }
   ],
   "source": [
    "'''\n",
    "\n",
    "@Author:Naveen Madev Naik\n",
    "@Date: 2024-08-06\n",
    "@Last Modified by: Naveen Madev Naik\n",
    "@Last Modified time: 2024-08-06 \n",
    "@Title :Python program to find the set difference of two arrays. The set difference\n",
    "        will return the sorted, unique values in array1 that are not in array2.\n",
    "\n",
    "'''\n",
    "\n",
    "\n",
    "def set_difference(array1,array2):\n",
    "\n",
    "    \"\"\"\n",
    "    Description:\n",
    "        function will return theset difference between two and in sorted format\n",
    "\n",
    "    Parameter:\n",
    "        array1,array2:will find set difference between this two\n",
    "\n",
    "    Return:\n",
    "        None\n",
    "    \"\"\"\n",
    "    difference_set=set(array1)-set(array2) \n",
    "    difference_list=list(difference_set)\n",
    "    difference_list.sort()\n",
    "    arr=np.array(difference_list,dtype=int) \n",
    "    print(arr)    \n",
    "\n",
    "def main():\n",
    "    try:\n",
    "        array1=np.array([0,10,20,40,60,80])\n",
    "        array2=np.array([10, 30, 40, 50, 70, 90])\n",
    "        print(\"Array1: \",array1)\n",
    "        print(\"Array2: \",array2)\n",
    "\n",
    "        print(\"set difference between two arrays: \")\n",
    "        set_difference(array1,array2)\n",
    "\n",
    "    except ValueError as e:\n",
    "        print(f\"Invalid input -->{e}\")    \n",
    "\n",
    "if __name__==\"__main__\":\n",
    "    main()"
   ]
  },
  {
   "cell_type": "markdown",
   "metadata": {},
   "source": [
    "14. Write a Python program to find the set exclusive-or of two arrays. Set exclusive-or\n",
    "will return the sorted, unique values that are in only one (not both) of the input arrays.\n",
    "Array1: [ 0 10 20 40 60 80]\n",
    "Array2: [10, 30, 40, 50, 70]\n",
    "Unique values that are in only one (not both) of the input arrays:\n",
    "[ 0 20 30 50 60 70 80]"
   ]
  },
  {
   "cell_type": "code",
   "execution_count": 98,
   "metadata": {},
   "outputs": [
    {
     "name": "stdout",
     "output_type": "stream",
     "text": [
      "Array1:  [ 0 10 20 40 60 80]\n",
      "Array2:  [10 30 40 50 70]\n",
      "Unique values that are in only one (not both) of the input arrays: \n",
      "[ 0 20 30 50 60 70 80]\n"
     ]
    }
   ],
   "source": [
    "'''\n",
    "\n",
    "@Author:Naveen Madev Naik\n",
    "@Date: 2024-08-06\n",
    "@Last Modified by: Naveen Madev Naik\n",
    "@Last Modified time: 2024-08-06 \n",
    "@Title :Python program to find the set exclusive-or of two arrays. Set exclusive-or\n",
    "        will return the sorted, unique values that are in only one (not both) of the input arrays.\n",
    "\n",
    "'''\n",
    "\n",
    "\n",
    "def set_symetric_difference(array1,array2):\n",
    "\n",
    "    \"\"\"\n",
    "    Description:\n",
    "        function will return Unique values that are in only one (not both) of the input arrays\n",
    "\n",
    "    Parameter:\n",
    "        array1,array2:will find set difference between this two\n",
    "\n",
    "    Return:\n",
    "        None\n",
    "    \"\"\"\n",
    "    union_set=set(array1)|set(array2)\n",
    "    intersection_set=set(array1)&set(array2)\n",
    "    difference_list=list(union_set-intersection_set)\n",
    "    difference_list.sort()\n",
    "    arr=np.array(difference_list,dtype=int) \n",
    "    print(arr)    \n",
    "\n",
    "def main():\n",
    "    try:\n",
    "        array1=np.array([0,10,20,40,60,80])\n",
    "        array2=np.array([10, 30, 40, 50, 70])\n",
    "        print(\"Array1: \",array1)\n",
    "        print(\"Array2: \",array2)\n",
    "\n",
    "        print(\"Unique values that are in only one (not both) of the input arrays: \")\n",
    "        set_symetric_difference(array1,array2)\n",
    "\n",
    "    except ValueError as e:\n",
    "        print(f\"Invalid input -->{e}\")    \n",
    "\n",
    "if __name__==\"__main__\":\n",
    "    main()"
   ]
  },
  {
   "cell_type": "markdown",
   "metadata": {},
   "source": [
    "15. Write a Python program compare two arrays using numpy.\n",
    "Array a: [1 2]\n",
    "Array b: [4 5]\n",
    "a > b\n",
    "[False False]\n",
    "a >= b\n",
    "[False False]\n",
    "a < b\n",
    "[ True True]\n",
    "a <= b\n",
    "[ True True]"
   ]
  },
  {
   "cell_type": "code",
   "execution_count": 118,
   "metadata": {},
   "outputs": [
    {
     "name": "stdout",
     "output_type": "stream",
     "text": [
      "array array1:  [1 0]\n",
      "array array2:  [4 1]\n",
      "\n",
      "array > array2\n",
      "[False False]\n",
      "\n",
      "array1 >= array2\n",
      "[False False]\n",
      "\n",
      "array1 < array2\n",
      "[ True  True]\n",
      "\n",
      "array1 <= array2\n",
      "[ True  True]\n"
     ]
    }
   ],
   "source": [
    "'''\n",
    "\n",
    "@Author:Naveen Madev Naik\n",
    "@Date: 2024-08-06\n",
    "@Last Modified by: Naveen Madev Naik\n",
    "@Last Modified time: 2024-08-06 \n",
    "@Title :Python program compare two arrays using numpy.\n",
    "\n",
    "'''\n",
    "   \n",
    "def compare_array(array1,array2):\n",
    "\n",
    "    \"\"\"\n",
    "    Descriprion:\n",
    "        function will compare array in every possibility print output\n",
    "\n",
    "    Parameter:\n",
    "        array1,array2:compare this two array\n",
    "\n",
    "    Return:\n",
    "        None\n",
    "    \n",
    "    \"\"\"\n",
    "\n",
    "    arr=np.array(array1,dtype=bool)\n",
    "\n",
    "    if array1.ndim == 1:\n",
    "        print(\"\\narray > array2\")\n",
    "        for i in range(arr.shape[0]):\n",
    "            arr[i] = True if array1[i] > array2[i] else False\n",
    "        print(arr)   \n",
    "\n",
    "        print(\"\\narray1 >= array2\")\n",
    "        for i in range(arr.shape[0]):\n",
    "            arr[i] = True if array1[i] >= array2[i] else False\n",
    "        print(arr)\n",
    "\n",
    "        print(\"\\narray1 < array2\")\n",
    "        for i in range(arr.shape[0]):\n",
    "            arr[i] = True if array1[i] < array2[i] else False\n",
    "        print(arr)\n",
    "\n",
    "        print(\"\\narray1 <= array2\")\n",
    "        for i in range(arr.shape[0]):\n",
    "            arr[i] = True if array1[i] <= array2[i] else False\n",
    "        print(arr)\n",
    "\n",
    "    else:\n",
    "        print(\"\\narray1 > array2\")\n",
    "        for row in range(arr.shape[0]):\n",
    "            for col in range(arr.shape[1]):\n",
    "                arr[row,col]=True if array1[row,col]>array2[row,col] else False\n",
    "        print(arr)   \n",
    "\n",
    "        print(\"\\narray1 >= array2\")\n",
    "        for row in range(arr.shape[0]):\n",
    "            for col in range(arr.shape[1]):\n",
    "                arr[row,col]=True if array1[row,col]>=array2[row,col] else False\n",
    "        print(arr)\n",
    "\n",
    "        print(\"\\narray1 < array2\")\n",
    "        for row in range(arr.shape[0]):\n",
    "            for col in range(arr.shape[1]):\n",
    "                arr[row,col]=True if array1[row,col]<array2[row,col] else False\n",
    "        print(arr)\n",
    "\n",
    "        print(\"\\narray1 <= array2\")\n",
    "        for row in range(arr.shape[0]):\n",
    "            for col in range(arr.shape[1]):\n",
    "                arr[row,col]=True if array1[row,col]<=array2[row,col] else False\n",
    "        print(arr)       \n",
    "\n",
    "\n",
    "def main():\n",
    "    try:\n",
    "        array1=np.array([1,0])\n",
    "        array2=np.array([4,1])\n",
    "        \n",
    "        print(\"array array1: \",array1)\n",
    "        print(\"array array2: \",array2) \n",
    "\n",
    "        compare_array(array1,array2)\n",
    "    except ValueError as e:\n",
    "        print(f\"Invalid input -->{e}\")    \n",
    "\n",
    "if __name__==\"__main__\":\n",
    "    main()"
   ]
  },
  {
   "cell_type": "markdown",
   "metadata": {},
   "source": [
    "16. Write a Python program to create a contiguous flattened array.\n",
    "Original array:\n",
    "[[10 20 30]\n",
    "[20 40 50]]\n",
    "New flattened array:\n",
    "[10 20 30 20 40 50]"
   ]
  },
  {
   "cell_type": "code",
   "execution_count": 120,
   "metadata": {},
   "outputs": [
    {
     "name": "stdout",
     "output_type": "stream",
     "text": [
      "Original Array:  [[10 20 40 50]\n",
      " [20 50 89 15]]\n",
      "new flattened array: \n",
      "[10 20 40 50 20 50 89 15]\n"
     ]
    }
   ],
   "source": [
    "'''\n",
    "\n",
    "@Author:Naveen Madev Naik\n",
    "@Date: 2024-08-06\n",
    "@Last Modified by: Naveen Madev Naik\n",
    "@Last Modified time: 2024-08-06 \n",
    "@Title :Python program to create a contiguous flattened array.\n",
    "\n",
    "'''\n",
    "\n",
    "\n",
    "def main():\n",
    "    try:\n",
    "        arr=np.array([[10,20,40,50],[20,50,89,15]])\n",
    "\n",
    "        print(\"Original Array: \",arr)\n",
    "        \n",
    "        flattened_array=arr.flatten()\n",
    "\n",
    "        print(\"new flattened array: \")\n",
    "        print(flattened_array)\n",
    "\n",
    "    except ValueError as e:\n",
    "        print(f\"Invalid input -->{e}\")    \n",
    "\n",
    "if __name__==\"__main__\":\n",
    "    main()"
   ]
  },
  {
   "cell_type": "markdown",
   "metadata": {},
   "source": [
    "17. Write a Python program to change the data type of an array.\n",
    "Expected Output:\n",
    "[[ 2 4 6]\n",
    "[ 6 8 10]]\n",
    "Data type of the array x is: int32\n",
    "New Type: float64\n",
    "[[ 2. 4. 6.]\n",
    "[ 6. 8. 10.]]"
   ]
  },
  {
   "cell_type": "code",
   "execution_count": 122,
   "metadata": {},
   "outputs": [
    {
     "name": "stdout",
     "output_type": "stream",
     "text": [
      "Original array:\n",
      "[[ 2  4  6]\n",
      " [ 6  8 10]]\n",
      "Data type of the array arr is: int32\n",
      "New Type: float32\n",
      "[[ 2.  4.  6.]\n",
      " [ 6.  8. 10.]]\n"
     ]
    }
   ],
   "source": [
    "'''\n",
    "\n",
    "@Author:Naveen Madev Naik\n",
    "@Date: 2024-08-06\n",
    "@Last Modified by: Naveen Madev Naik\n",
    "@Last Modified time: 2024-08-06 \n",
    "@Title :Python program to change the data type of an array.\n",
    "\n",
    "'''\n",
    "\n",
    "\n",
    "def get_dtype_from_input(dtype_str):\n",
    "    \"\"\"\n",
    "    Description:\n",
    "        Convert user input string to NumPy data type.\n",
    "    \n",
    "    Parameter:\n",
    "        dtype_str:input from user\n",
    "\n",
    "    Return:\n",
    "        string    \n",
    "    \"\"\"\n",
    "    dtype_mapping = {\n",
    "        'int32': np.int32,\n",
    "        'float64': np.float64,\n",
    "        'float32': np.float32,\n",
    "        'int64': np.int64,\n",
    "        'int16': np.int16,\n",
    "        'bool': np.bool_\n",
    "    }\n",
    "    return dtype_mapping.get(dtype_str, None)\n",
    "\n",
    "def main():\n",
    "    try:\n",
    "        arr= np.array([[2, 4, 6], [6, 8, 10]], dtype=np.int32)\n",
    "\n",
    "        print(\"Original array:\")\n",
    "        print(arr)\n",
    "        print(\"Data type of the array arr is:\", arr.dtype)\n",
    "\n",
    "\n",
    "        new_dtype_str = input(\"Enter the data type to convert to (e.g., 'float64', 'int32', 'bool'): \")\n",
    "\n",
    "        new_dtype = get_dtype_from_input(new_dtype_str)\n",
    "\n",
    "        if new_dtype is not None:\n",
    "            arr_new = arr.astype(new_dtype)\n",
    "            \n",
    "            print(\"New Type:\", arr_new.dtype)\n",
    "            print(arr_new)\n",
    "        else:\n",
    "            print(\"Invalid data type entered. Please enter a valid NumPy data type.\")\n",
    "        \n",
    "    except ValueError as e:\n",
    "        print(f\"Invalid input -->{e}\")    \n",
    "\n",
    "if __name__==\"__main__\":\n",
    "    main()"
   ]
  },
  {
   "cell_type": "markdown",
   "metadata": {},
   "source": [
    "18. Write a Python program to create a 3-D array with ones on a diagonal and zeros\n",
    "elsewhere.\n",
    "Expected Output:\n",
    "[[ 1. 0. 0.]\n",
    "[ 0. 1. 0.]\n",
    "[ 0. 0. 1.]]"
   ]
  },
  {
   "cell_type": "code",
   "execution_count": 134,
   "metadata": {},
   "outputs": [
    {
     "name": "stdout",
     "output_type": "stream",
     "text": [
      "[[[0. 0. 0.]\n",
      "  [0. 0. 0.]\n",
      "  [0. 0. 0.]]\n",
      "\n",
      " [[0. 0. 0.]\n",
      "  [0. 0. 0.]\n",
      "  [0. 0. 0.]]\n",
      "\n",
      " [[0. 0. 0.]\n",
      "  [0. 0. 0.]\n",
      "  [0. 0. 0.]]]\n",
      "after adding ones to daigonal to 3-d array: \n",
      "[[[1. 0. 0.]\n",
      "  [0. 0. 0.]\n",
      "  [0. 0. 0.]]\n",
      "\n",
      " [[0. 0. 0.]\n",
      "  [0. 1. 0.]\n",
      "  [0. 0. 0.]]\n",
      "\n",
      " [[0. 0. 0.]\n",
      "  [0. 0. 0.]\n",
      "  [0. 0. 1.]]]\n"
     ]
    }
   ],
   "source": [
    "'''\n",
    "\n",
    "@Author:Naveen Madev Naik\n",
    "@Date: 2024-08-06\n",
    "@Last Modified by: Naveen Madev Naik\n",
    "@Last Modified time: 2024-08-06 \n",
    "@Title :Python program to create a 3-D array with ones on a diagonal and zeros\n",
    "        elsewhere.\n",
    "\n",
    "'''\n",
    "\n",
    "\n",
    "def main():\n",
    "    try:\n",
    "        size=int(input(\"enter n value for the nXnXn matrix of 3-D array: \"))\n",
    "        arr3d= np.zeros((size,size,size))\n",
    "        print(arr3d)\n",
    "\n",
    "        for index in range(arr3d.shape[0]):\n",
    "            arr3d[index,index,index]=1\n",
    "\n",
    "        print(\"after adding ones to daigonal to 3-d array: \")    \n",
    "        print(arr3d)\n",
    "    except ValueError as e:\n",
    "        print(f\"Invalid input -->{e}\")    \n",
    "\n",
    "if __name__==\"__main__\":\n",
    "    main()"
   ]
  },
  {
   "cell_type": "markdown",
   "metadata": {},
   "source": [
    "19. Write a Python program to create an array which looks like below array.\n",
    "Expected Output:\n",
    "[[ 0. 0. 0.]\n",
    "[ 1. 0. 0.]\n",
    "[ 1. 1. 0.]\n",
    "[ 1. 1. 1.]]"
   ]
  },
  {
   "cell_type": "code",
   "execution_count": 138,
   "metadata": {},
   "outputs": [
    {
     "name": "stdout",
     "output_type": "stream",
     "text": [
      "original array: \n",
      "[[0. 0. 0.]\n",
      " [0. 0. 0.]\n",
      " [0. 0. 0.]\n",
      " [0. 0. 0.]]\n",
      "after doing operation: \n",
      "[[0. 0. 0.]\n",
      " [1. 0. 0.]\n",
      " [1. 1. 0.]\n",
      " [1. 1. 1.]]\n"
     ]
    }
   ],
   "source": [
    "'''\n",
    "\n",
    "@Author:Naveen Madev Naik\n",
    "@Date: 2024-08-06\n",
    "@Last Modified by: Naveen Madev Naik\n",
    "@Last Modified time: 2024-08-06 \n",
    "@Title :Python program to create an array which looks like below array.\n",
    "        Expected Output:\n",
    "        [[ 0. 0. 0.]\n",
    "        [ 1. 0. 0.]\n",
    "        [ 1. 1. 0.]\n",
    "        [ 1. 1. 1.]]\n",
    "\n",
    "'''\n",
    "\n",
    "\n",
    "def main():\n",
    "    try:\n",
    "        size=int(input(\"enter n value for the nXn matrix of 3-D array: \"))\n",
    "        arr2d= np.zeros((size+1,size))\n",
    "        print(\"original array: \")\n",
    "        print(arr2d)\n",
    "\n",
    "        col_count=0\n",
    "        for row in range(arr2d.shape[0]):\n",
    "            for col in range(col_count):\n",
    "                arr2d[row,col]=1\n",
    "            col_count+=1\n",
    "\n",
    "        print(\"after doing operation: \")\n",
    "        print(arr2d)\n",
    "            \n",
    "\n",
    "    except ValueError as e:\n",
    "        print(f\"Invalid input -->{e}\")    \n",
    "\n",
    "if __name__==\"__main__\":\n",
    "    main()"
   ]
  },
  {
   "cell_type": "markdown",
   "metadata": {},
   "source": [
    "20. Write a Python program to concatenate two 2-dimensional arrays.\n",
    "Expected Output:\n",
    "Sample arrays: [[0, 1, 3], [5, 7, 9]], [[0, 2, 4], [6, 8, 10]]\n",
    "Expected Output:\n",
    "[[ 0 1 3 0 2 4]\n",
    "[ 5 7 9 6 8 10]]"
   ]
  },
  {
   "cell_type": "code",
   "execution_count": 143,
   "metadata": {},
   "outputs": [
    {
     "name": "stdout",
     "output_type": "stream",
     "text": [
      "Sample arrays: \n",
      "[[1 2 3 4]\n",
      " [5 7 8 9]] \n",
      "\n",
      "[[2 0 6 4]\n",
      " [3 0 1 2]]\n",
      "\n",
      "after concatinating: \n",
      "[[1 2 3 4 2 0 6 4]\n",
      " [5 7 8 9 3 0 1 2]]\n"
     ]
    }
   ],
   "source": [
    "'''\n",
    "\n",
    "@Author:Naveen Madev Naik\n",
    "@Date: 2024-08-06\n",
    "@Last Modified by: Naveen Madev Naik\n",
    "@Last Modified time: 2024-08-06 \n",
    "@Title :Python program to concatenate two 2-dimensional arrays.\n",
    "\n",
    "'''\n",
    "\n",
    "\n",
    "def main():\n",
    "    try:\n",
    "        array1=np.array([[1,2,3,4],[5,7,8,9]])\n",
    "        array2=np.array([[2,0,6,4],[3,0,1,2]])\n",
    "        print(\"Sample arrays: \")\n",
    "        print(array1,\"\\n\")\n",
    "        print(array2)\n",
    "\n",
    "        print(\"\\nafter concatinating: \")\n",
    "        print(np.concatenate((array1,array2),axis=1))\n",
    "    \n",
    "    except ValueError as e:\n",
    "        print(f\"Invalid input -->{e}\")    \n",
    "\n",
    "if __name__==\"__main__\":\n",
    "    main()"
   ]
  },
  {
   "cell_type": "markdown",
   "metadata": {},
   "source": [
    "21. Write a Python program to make an array immutable (read-only).\n",
    "Expected Output:\n",
    "Test the array is read-only or not:\n",
    "Try to change the value of the first element:\n",
    "Traceback (most recent call last):\n",
    "File \"19236bd0-0bd9-11e7-a232-c706d0968eb6.py\", line 6, in\n",
    "x[0] = 1\n",
    "ValueError: assignment destination is read-only"
   ]
  },
  {
   "cell_type": "code",
   "execution_count": 145,
   "metadata": {},
   "outputs": [
    {
     "name": "stdout",
     "output_type": "stream",
     "text": [
      "Test the array is read-only or not:\n",
      "Array: [0 0 0]\n",
      "Flags:   C_CONTIGUOUS : True\n",
      "  F_CONTIGUOUS : True\n",
      "  OWNDATA : True\n",
      "  WRITEABLE : False\n",
      "  ALIGNED : True\n",
      "  WRITEBACKIFCOPY : False\n",
      "  UPDATEIFCOPY : False\n",
      "\n",
      "Try to change the value of the first element:\n",
      "Traceback (most recent call last):\n",
      "ValueError: assignment destination is read-only\n"
     ]
    }
   ],
   "source": [
    "'''\n",
    "\n",
    "@Author:Naveen Madev Naik\n",
    "@Date: 2024-08-06\n",
    "@Last Modified by: Naveen Madev Naik\n",
    "@Last Modified time: 2024-08-06 \n",
    "@Title :Python program to make an array immutable(read-only).\n",
    "\n",
    "'''\n",
    "\n",
    "\n",
    "def main():\n",
    "    try:\n",
    "        arr = np.array([0, 0, 0])\n",
    "\n",
    "        arr.setflags(write=False)\n",
    "\n",
    "        print(\"Test the array is read-only or not:\")\n",
    "        print(\"Array:\", arr)\n",
    "        print(\"Flags:\", arr.flags)\n",
    "\n",
    "        print(\"Try to change the value of the first element:\")\n",
    "        arr[0] = 1\n",
    "    except ValueError as e:\n",
    "        print(\"Traceback (most recent call last):\")\n",
    "        print(\"ValueError:\", e)\n",
    "   \n",
    "\n",
    "if __name__==\"__main__\":\n",
    "    main()"
   ]
  },
  {
   "cell_type": "markdown",
   "metadata": {},
   "source": [
    "22. Write a Python program to create an array of (3, 4) shape, multiply every element\n",
    "value by 3 and display the new array.\n",
    "Expected Output:\n",
    "Original array elements:\n",
    "[[ 0 1 2 3]\n",
    "[ 4 5 6 7]\n",
    "[ 8 9 10 11]]\n",
    "New array elements:\n",
    "[[ 0 3 6 9]\n",
    "[12 15 18 21]\n",
    "[24 27 30 33]]"
   ]
  },
  {
   "cell_type": "code",
   "execution_count": 147,
   "metadata": {},
   "outputs": [
    {
     "name": "stdout",
     "output_type": "stream",
     "text": [
      "Original array:\n",
      "[[1 3 5 0]\n",
      " [4 4 1 2]\n",
      " [4 2 3 0]]\n",
      "New array with every element multiplied by 3:\n",
      "[[ 3  9 15  0]\n",
      " [12 12  3  6]\n",
      " [12  6  9  0]]\n"
     ]
    }
   ],
   "source": [
    "'''\n",
    "\n",
    "@Author:Naveen Madev Naik\n",
    "@Date: 2024-08-06\n",
    "@Last Modified by: Naveen Madev Naik\n",
    "@Last Modified time: 2024-08-06 \n",
    "@Title :Python program to create an array of (3, 4) shape, multiply every element\n",
    "        value by 3 and display the new array.\n",
    "\n",
    "'''\n",
    "\n",
    "\n",
    "def main():\n",
    "    try:\n",
    "        array = np.random.randint(0, 11, size=(3, 4))\n",
    "\n",
    "        new_array = array * 3\n",
    "\n",
    "        print(\"Original array:\")\n",
    "        print(array)\n",
    "        print(\"New array with every element multiplied by 3:\")\n",
    "        print(new_array)\n",
    "\n",
    "    except ValueError as e: \n",
    "        print(f\"Invalid input -->{e}\")    \n",
    "\n",
    "if __name__==\"__main__\":\n",
    "    main()"
   ]
  },
  {
   "cell_type": "markdown",
   "metadata": {},
   "source": [
    "23. Write a Python program to convert a NumPy array into Python list structure.\n",
    "Expected Output:\n",
    "Original array elements:\n",
    "[[0 1]\n",
    "[2 3]\n",
    "[4 5]]\n",
    "Array to list:\n",
    "[[0, 1], [2, 3], [4, 5]]"
   ]
  },
  {
   "cell_type": "code",
   "execution_count": 149,
   "metadata": {},
   "outputs": [
    {
     "name": "stdout",
     "output_type": "stream",
     "text": [
      "Original array:\n",
      "[[ 3  6  0  9]\n",
      " [ 8  3  0  5]\n",
      " [ 8  2  1 10]]\n",
      "Array to list: \n",
      "[[3, 6, 0, 9], [8, 3, 0, 5], [8, 2, 1, 10]]\n"
     ]
    }
   ],
   "source": [
    "'''\n",
    "\n",
    "@Author:Naveen Madev Naik\n",
    "@Date: 2024-08-06\n",
    "@Last Modified by: Naveen Madev Naik\n",
    "@Last Modified time: 2024-08-06 \n",
    "@Title : Python program to convert a NumPy array into Python list structure.\n",
    "\n",
    "'''\n",
    "\n",
    "\n",
    "def main():\n",
    "    try:\n",
    "        array = np.random.randint(0, 11, size=(3, 4))\n",
    "\n",
    "        print(\"Original array:\")\n",
    "        print(array)\n",
    "        new_array_list=[]\n",
    "        print(\"Array to list: \")\n",
    "        for index in array:\n",
    "            new_array_list.append(list(index))\n",
    "        print(new_array_list)\n",
    "\n",
    "    except ValueError as e: \n",
    "        print(f\"Invalid input -->{e}\")    \n",
    "\n",
    "if __name__==\"__main__\":\n",
    "    main()"
   ]
  },
  {
   "cell_type": "markdown",
   "metadata": {},
   "source": [
    "24. Write a Python program to convert a NumPy array with float element convert into element with 3 precisions.\n",
    "Expected Output:\n",
    "Original array elements:\n",
    "[ 0.26153123 0.52760141 0.5718299 0.5927067 0.7831874 0.69746349\n",
    "0.35399976 0.99469633 0.0694458 0.54711478]\n",
    "Print array values with precision 3:\n",
    "[ 0.262 0.528 0.572 0.593 0.783 0.697 0.354 0.995 0.069 0.547]"
   ]
  },
  {
   "cell_type": "code",
   "execution_count": 150,
   "metadata": {},
   "outputs": [
    {
     "name": "stdout",
     "output_type": "stream",
     "text": [
      "Original array elements:\n",
      "[0.26153123 0.52760141 0.5718299  0.5927067  0.7831874  0.69746349\n",
      " 0.35399976 0.99469633 0.0694458  0.54711478]\n",
      "Print array values with precision 3:\n",
      "[0.262 0.528 0.572 0.593 0.783 0.697 0.354 0.995 0.069 0.547]\n"
     ]
    }
   ],
   "source": [
    "'''\n",
    "\n",
    "@Author:Naveen Madev Naik\n",
    "@Date: 2024-08-06\n",
    "@Last Modified by: Naveen Madev Naik\n",
    "@Last Modified time: 2024-08-06 \n",
    "@Title : Python program to convert a NumPy array with float element convert into element with 3 precisions.\n",
    "'''\n",
    "\n",
    "\n",
    "def main():\n",
    "    try:\n",
    "        array = np.array([0.26153123, 0.52760141, 0.5718299, 0.5927067, 0.7831874,\n",
    "                  0.69746349, 0.35399976, 0.99469633, 0.0694458, 0.54711478])\n",
    "\n",
    "        print(\"Original array elements:\")\n",
    "        print(array)\n",
    "\n",
    "        array_rounded = np.around(array, decimals=3)\n",
    "        print(\"Print array values with precision 3:\")\n",
    "        print(array_rounded)\n",
    "\n",
    "    except ValueError as e: \n",
    "        print(f\"Invalid input -->{e}\")    \n",
    "\n",
    "if __name__==\"__main__\":\n",
    "    main()"
   ]
  },
  {
   "cell_type": "markdown",
   "metadata": {},
   "source": [
    "25. Write a Python program to suppresses the use of scientific notation for small\n",
    "numbers in numpy array.\n",
    "Expected Output:\n",
    "Original array elements:\n",
    "[ 1.60000000e-10 1.60000000e+00 1.20000000e+03 2.35000000e-01]\n",
    "Print array values with precision 3:\n",
    "[ 0. 1.6 1200. 0.235]"
   ]
  },
  {
   "cell_type": "code",
   "execution_count": 151,
   "metadata": {},
   "outputs": [
    {
     "name": "stdout",
     "output_type": "stream",
     "text": [
      "Original array elements:\n",
      "[1.60e-10 1.60e+00 1.20e+03 2.35e-01]\n",
      "Print array values with precision 3:\n",
      "[   0.       1.6   1200.       0.235]\n"
     ]
    }
   ],
   "source": [
    "'''\n",
    "\n",
    "@Author:Naveen Madev Naik\n",
    "@Date: 2024-08-06\n",
    "@Last Modified by: Naveen Madev Naik\n",
    "@Last Modified time: 2024-08-06 \n",
    "@Title :Python program to suppresses the use of scientific notation for small numbers in numpy array.\n",
    "'''\n",
    "\n",
    "\n",
    "def main():\n",
    "    try:\n",
    "        array = np.array([1.6e-10, 1.6, 1200, 0.235])\n",
    "\n",
    "        print(\"Original array elements:\")\n",
    "        print(array)\n",
    "\n",
    "        np.set_printoptions(precision=3, suppress=True)\n",
    "\n",
    "        print(\"Print array values with precision 3:\")\n",
    "        print(array)\n",
    "\n",
    "    except ValueError as e: \n",
    "        print(f\"Invalid input -->{e}\")    \n",
    "\n",
    "if __name__==\"__main__\":\n",
    "    main()"
   ]
  },
  {
   "cell_type": "markdown",
   "metadata": {},
   "source": [
    "26. Write a Python program to how to add an extra column to an numpy array.\n",
    "Expected Output:\n",
    "[[ 10 20 30 100]\n",
    "[ 40 50 60 200]]"
   ]
  },
  {
   "cell_type": "code",
   "execution_count": 152,
   "metadata": {},
   "outputs": [
    {
     "name": "stdout",
     "output_type": "stream",
     "text": [
      "Original array:\n",
      "[[10 20 30]\n",
      " [40 50 60]]\n",
      "New array with the added column:\n",
      "[[ 10  20  30 100]\n",
      " [ 40  50  60 200]]\n"
     ]
    }
   ],
   "source": [
    "'''\n",
    "\n",
    "@Author:Naveen Madev Naik\n",
    "@Date: 2024-08-06\n",
    "@Last Modified by: Naveen Madev Naik\n",
    "@Last Modified time: 2024-08-06 \n",
    "@Title :Python program to how to add an extra column to an numpy array.\n",
    "'''\n",
    "\n",
    "\n",
    "def main():\n",
    "    try:\n",
    "        original_array = np.array([[10, 20, 30], [40, 50, 60]])\n",
    "\n",
    "        new_column = np.array([[100], [200]])\n",
    "\n",
    "        result_array = np.hstack((original_array, new_column))\n",
    "\n",
    "        print(\"Original array:\")\n",
    "        print(original_array)\n",
    "        print(\"New array with the added column:\")\n",
    "        print(result_array)\n",
    "\n",
    "    except ValueError as e: \n",
    "        print(f\"Invalid input -->{e}\")    \n",
    "\n",
    "if __name__==\"__main__\":\n",
    "    main()"
   ]
  },
  {
   "cell_type": "markdown",
   "metadata": {},
   "source": [
    "27. Write a Python program to remove specific elements in a numpy array.\n",
    "Expected Output:\n",
    "Original array:\n",
    "[ 10 20 30 40 50 60 70 80 90 100]\n",
    "Delete first, fourth and fifth elements:\n",
    "[ 20 30 60 70 80 90 100]"
   ]
  },
  {
   "cell_type": "code",
   "execution_count": 153,
   "metadata": {},
   "outputs": [
    {
     "name": "stdout",
     "output_type": "stream",
     "text": [
      "Original array:\n",
      "[ 10  20  30  40  50  60  70  80  90 100]\n",
      "Delete first, fourth and fifth elements:\n",
      "[ 20  30  60  70  80  90 100]\n"
     ]
    }
   ],
   "source": [
    "'''\n",
    "\n",
    "@Author:Naveen Madev Naik\n",
    "@Date: 2024-08-06\n",
    "@Last Modified by: Naveen Madev Naik\n",
    "@Last Modified time: 2024-08-06 \n",
    "@Title :Python program to remove specific elements in a numpy array.\n",
    "'''\n",
    "\n",
    "def remove_elements(arr, indices):\n",
    "\n",
    "\n",
    "    \"\"\"\n",
    "    Description:\n",
    "        Removes elements from a numpy array at specified indices.\n",
    "\n",
    "    Parameters:\n",
    "        arr (numpy.ndarray): The original array.\n",
    "        indices (list or numpy.ndarray): The indices of elements to be removed.\n",
    "\n",
    "    Returns:\n",
    "    numpy.ndarray: The array with specified elements removed.\n",
    "\n",
    "    \"\"\"\n",
    "\n",
    "    return np.delete(arr, indices)\n",
    "\n",
    "\n",
    "def main():\n",
    "    try:\n",
    "        original_array = np.array([10, 20, 30, 40, 50, 60, 70, 80, 90, 100])\n",
    "\n",
    "        indices_to_remove = [0, 3, 4]\n",
    "\n",
    "        new_array = remove_elements(original_array, indices_to_remove)\n",
    "        \n",
    "        print(\"Original array:\")\n",
    "        print(original_array)\n",
    "        print(\"Delete first, fourth and fifth elements:\")\n",
    "        print(new_array)\n",
    "\n",
    "    except ValueError as e: \n",
    "        print(f\"Invalid input -->{e}\")    \n",
    "\n",
    "if __name__==\"__main__\":\n",
    "    main()"
   ]
  },
  {
   "cell_type": "markdown",
   "metadata": {},
   "source": [
    "28.Python program to save a NumPy array to a text file."
   ]
  },
  {
   "cell_type": "code",
   "execution_count": 155,
   "metadata": {},
   "outputs": [
    {
     "name": "stdout",
     "output_type": "stream",
     "text": [
      "Array saved to array.txt\n",
      "Content of the file:\n",
      "10.12\t20.46\t30.79\n",
      "40.12\t50.46\t60.79\n",
      "70.12\t80.46\t90.79\n",
      "\n"
     ]
    }
   ],
   "source": [
    "'''\n",
    "\n",
    "@Author:Naveen Madev Naik\n",
    "@Date: 2024-08-06\n",
    "@Last Modified by: Naveen Madev Naik\n",
    "@Last Modified time: 2024-08-06 \n",
    "@Title :program to save a NumPy array to a text file.\n",
    "'''\n",
    "\n",
    "\n",
    "def main():\n",
    "    try:\n",
    "        array = np.array([[10.123, 20.456, 30.789], [40.123, 50.456, 60.789], [70.123, 80.456, 90.789]])\n",
    "\n",
    "        filename = 'array.txt'\n",
    "\n",
    "        np.savetxt(filename, array, fmt='%.2f', delimiter='\\t')\n",
    "\n",
    "        print(f\"Array saved to {filename}\")\n",
    "        with open(filename, 'r') as file:\n",
    "            file_content = file.read()\n",
    "\n",
    "        print(\"Content of the file:\")\n",
    "        print(file_content)\n",
    "\n",
    "    except ValueError as e: \n",
    "        print(f\"Invalid input -->{e}\")    \n",
    "\n",
    "if __name__==\"__main__\":\n",
    "    main()"
   ]
  }
 ],
 "metadata": {
  "kernelspec": {
   "display_name": "Python 3 (ipykernel)",
   "language": "python",
   "name": "python3"
  }
 },
 "nbformat": 4,
 "nbformat_minor": 2
}
